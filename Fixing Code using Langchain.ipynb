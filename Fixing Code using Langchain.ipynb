{
 "cells": [
  {
   "cell_type": "markdown",
   "metadata": {},
   "source": [
    "# Set OPENAI API key in Environment Variables and importing Liberaries"
   ]
  },
  {
   "cell_type": "code",
   "execution_count": 4,
   "metadata": {
    "height": 115
   },
   "outputs": [],
   "source": [
    "import os\n",
    "import openai\n",
    "\n",
    "from dotenv import load_dotenv, find_dotenv\n",
    "_ = load_dotenv(find_dotenv()) # read local .env file\n",
    "openai.api_key = os.environ['OPENAI_API_KEY']"
   ]
  },
  {
   "cell_type": "code",
   "execution_count": 5,
   "metadata": {
    "height": 81
   },
   "outputs": [],
   "source": [
    "from langchain.chat_models import ChatOpenAI\n",
    "import os\n",
    "import traceback\n",
    "\n"
   ]
  },
  {
   "cell_type": "code",
   "execution_count": 6,
   "metadata": {
    "height": 51
   },
   "outputs": [
    {
     "data": {
      "text/plain": [
       "ChatOpenAI(verbose=False, callbacks=None, callback_manager=None, client=<class 'openai.api_resources.chat_completion.ChatCompletion'>, model_name='gpt-3.5-turbo', temperature=0.0, model_kwargs={}, openai_api_key=None, openai_api_base=None, openai_organization=None, request_timeout=None, max_retries=6, streaming=False, n=1, max_tokens=None)"
      ]
     },
     "execution_count": 6,
     "metadata": {},
     "output_type": "execute_result"
    }
   ],
   "source": [
    "chat = ChatOpenAI(temperature=0.0)\n",
    "chat"
   ]
  },
  {
   "cell_type": "code",
   "execution_count": 7,
   "metadata": {
    "height": 81
   },
   "outputs": [],
   "source": [
    "from langchain.output_parsers import ResponseSchema\n",
    "from langchain.output_parsers import StructuredOutputParser\n",
    "from langchain.prompts import ChatPromptTemplate\n"
   ]
  },
  {
   "cell_type": "markdown",
   "metadata": {},
   "source": [
    "## Defining output format structure using StructuredOutputParser"
   ]
  },
  {
   "cell_type": "code",
   "execution_count": 8,
   "metadata": {
    "height": 98
   },
   "outputs": [],
   "source": [
    "# Define response schemas for the output of the chatbot, specifying the expected format of each field\n",
    "type_schema = ResponseSchema(name=\"code_type\", description=\"type of the code whether it's a function or a script\")\n",
    "old_code_schema = ResponseSchema(name=\"old_code\", description=\"the original code\")\n",
    "new_code_schema = ResponseSchema(name=\"new_code\", description=\"the fixed code\")\n",
    "explaination_schema = ResponseSchema(name=\"explain\", description=\"explain changes\")\n",
    "response_schemas =[type_schema, old_code_schema, new_code_schema, explaination_schema]\n",
    "\n",
    "# Create a structured output parser using the response schemas\n",
    "output_parser = StructuredOutputParser.from_response_schemas(response_schemas)"
   ]
  },
  {
   "cell_type": "code",
   "execution_count": 9,
   "metadata": {
    "height": 64
   },
   "outputs": [
    {
     "name": "stdout",
     "output_type": "stream",
     "text": [
      "The output should be a markdown code snippet formatted in the following schema, including the leading and trailing \"\\`\\`\\`json\" and \"\\`\\`\\`\":\n",
      "\n",
      "```json\n",
      "{\n",
      "\t\"code_type\": string  // type of the code whether it's a function or a script\n",
      "\t\"old_code\": string  // the original code\n",
      "\t\"new_code\": string  // the fixed code\n",
      "\t\"explain\": string  // explain changes\n",
      "}\n",
      "```\n"
     ]
    }
   ],
   "source": [
    "# Get the format instructions for how to format a message to send to the chatbot\n",
    "format_instructions = output_parser.get_format_instructions()\n",
    "\n",
    "# Print the format instructions for reference\n",
    "print(format_instructions)"
   ]
  },
  {
   "cell_type": "markdown",
   "metadata": {},
   "source": [
    "# Defining Prompt Template"
   ]
  },
  {
   "cell_type": "code",
   "execution_count": 10,
   "metadata": {
    "height": 205
   },
   "outputs": [],
   "source": [
    "# Define a template string for the message to send to the chatbot, using placeholders for the code, error, test cases, and format instructions\n",
    "template_string = \"\"\"fix the code \\\n",
    "that is delimited by triple backticks \\\n",
    "code: ```{code}```\n",
    "that has the following error\n",
    "{error}\n",
    "to pass the following test cases\n",
    "{test_cases_str}\n",
    "\n",
    "{format_instructions}\n",
    "\"\"\"\n",
    "\n",
    "# Create a chat prompt template using the template string\n",
    "prompt_template = ChatPromptTemplate.from_template(template_string)"
   ]
  },
  {
   "cell_type": "markdown",
   "metadata": {},
   "source": [
    "## Function to check the code for errors and return the traceback of the error"
   ]
  },
  {
   "cell_type": "code",
   "execution_count": 11,
   "metadata": {
    "height": 308
   },
   "outputs": [],
   "source": [
    "# Define a function to check if a given code and test cases run without errors\n",
    "def check_code(code, test_cases):\n",
    "    try:\n",
    "        # Execute the given code\n",
    "        exec(code)\n",
    "        \n",
    "        # Execute each test case\n",
    "        for test_case in test_cases:\n",
    "            exec(test_case)\n",
    "        \n",
    "        # If no errors occur, return None to indicate success\n",
    "        return None\n",
    "    \n",
    "    # If an error occurs, catch it and return the error message as a string\n",
    "    except BaseException as e:\n",
    "        error = str(traceback.format_exc())\n",
    "        return error"
   ]
  },
  {
   "cell_type": "markdown",
   "metadata": {},
   "source": [
    "## Function to fix the code"
   ]
  },
  {
   "cell_type": "code",
   "execution_count": 12,
   "metadata": {
    "height": 676
   },
   "outputs": [],
   "source": [
    "# Define a function to attempt to fix a given code that fails to pass test cases\n",
    "def fix_code(code, n, test_cases):\n",
    "    # Check if the initial code already passes all test cases\n",
    "    error = check_code(code, test_cases)\n",
    "    if error is None:\n",
    "        return code\n",
    "    \n",
    "    # If the initial code fails test cases, print the code and error message for reference\n",
    "    else:\n",
    "        print(code)\n",
    "        print()\n",
    "        print(f\"\\033[31m{error}\\033[0m\")\n",
    "        print(\"##################################################################\")\n",
    "    \n",
    "    # Attempt to fix the code\n",
    "    print(\"Fixing\\n\")\n",
    "    for i in range(n):\n",
    "        print(f\"Trial #{i}\")\n",
    "        \n",
    "        # Format a message to send to a chatbot, asking for help fixing the code\n",
    "        code_messages = prompt_template.format_messages(\n",
    "                            code=code,\n",
    "                            error=error,\n",
    "                            test_cases_str=\"\\n\".join(test_cases),\n",
    "                            format_instructions=format_instructions)\n",
    "        \n",
    "        # Send the message to the chatbot and parse the response\n",
    "        response = chat(code_messages)\n",
    "        output_dict = output_parser.parse(response.content)\n",
    "        \n",
    "        # Get the new code from the response and check if it passes all test cases\n",
    "        code = output_dict['new_code']\n",
    "        error = check_code(code, test_cases)\n",
    "        \n",
    "        # If the new code passes all test cases, return the fixed code and print an explanation\n",
    "        if error is None:\n",
    "            print(\"Explanation: \")\n",
    "            print(output_dict['explain'])\n",
    "            print(\"\\033[32mSuccess\\033[0m\")\n",
    "            return code\n",
    "        \n",
    "        # If the new code still fails test cases, print an explanation and continue to the next trial\n",
    "        else:\n",
    "            print(\"Explanation: \")\n",
    "            print(output_dict['explain'])\n",
    "            print(\"\\033[31mFailure\\033[0m\")\n",
    "            print(\"Failure\")\n",
    "            print(f\"\\033[31m{error}\\033[0m\")\n",
    "            print(\"==\"*20)\n",
    "    \n",
    "    # If no fixed code is found after n trials, return -1 to indicate failure\n",
    "    return -1"
   ]
  },
  {
   "cell_type": "code",
   "execution_count": 14,
   "metadata": {
    "height": 268
   },
   "outputs": [
    {
     "name": "stdout",
     "output_type": "stream",
     "text": [
      "def can_rearrange(s1, s2):\n",
      "    # If the strings are identical, then s1 can be rearranged to be s2\n",
      "    s1=s\n",
      "    if s1 == s2:\n",
      "        return True\n",
      "    else:\n",
      "        return False\n",
      "\n",
      "\u001b[31mTraceback (most recent call last):\n",
      "  File \"/tmp/ipykernel_84/3013963956.py\", line 9, in check_code\n",
      "    exec(test_case)\n",
      "  File \"<string>\", line 1, in <module>\n",
      "  File \"<string>\", line 3, in can_rearrange\n",
      "NameError: name 's' is not defined\n",
      "\u001b[0m\n",
      "##################################################################\n",
      "Fixing\n",
      "\n",
      "Trial #0\n",
      "Explanation: \n",
      "The variable 's' was not defined, so it was replaced with 's1'. Additionally, the function now sorts both strings and compares them to check if they are rearrangements of each other.\n",
      "\u001b[32mSuccess\u001b[0m\n",
      "\u001b[32mdef can_rearrange(s1, s2):\n",
      "    # If the strings are identical, then s1 can be rearranged to be s2\n",
      "    if sorted(s1) == sorted(s2):\n",
      "        return True\n",
      "    else:\n",
      "        return False\u001b[0m\n"
     ]
    }
   ],
   "source": [
    "code = \"\"\"def can_rearrange(s1, s2):\n",
    "    # If the strings are identical, then s1 can be rearranged to be s2\n",
    "    s1=s\n",
    "    if s1 == s2:\n",
    "        return True\n",
    "    else:\n",
    "        return False\"\"\"\n",
    "error = \"\"\n",
    "\n",
    "test_cases=[\"assert can_rearrange('race', 'care')==True\",\n",
    "           \"assert can_rearrange('hello', 'world')==False\",\n",
    "           \"assert can_rearrange('listen', 'silent')==True\"]\n",
    "\n",
    "fixed_code = fix_code(code, 5, test_cases)\n",
    "print(f\"\\033[32m{fixed_code}\\033[0m\")"
   ]
  },
  {
   "cell_type": "code",
   "execution_count": null,
   "metadata": {
    "height": 30
   },
   "outputs": [],
   "source": []
  },
  {
   "cell_type": "code",
   "execution_count": 13,
   "metadata": {
    "height": 290
   },
   "outputs": [
    {
     "name": "stdout",
     "output_type": "stream",
     "text": [
      "def can_rearrange(s1, s2):\n",
      "    # If the strings are identical, then s1 can be rearranged to be s2\n",
      "    s1=s\n",
      "    if s1 == s2:\n",
      "        return True\n",
      "    else:\n",
      "        return False\n",
      "\n",
      "\u001b[31mTraceback (most recent call last):\n",
      "  File \"/tmp/ipykernel_84/3013963956.py\", line 9, in check_code\n",
      "    exec(test_case)\n",
      "  File \"<string>\", line 1, in <module>\n",
      "  File \"<string>\", line 3, in can_rearrange\n",
      "NameError: name 's' is not defined\n",
      "\u001b[0m\n",
      "##################################################################\n",
      "Fixing\n",
      "\n",
      "Trial #0\n",
      "Explanation: \n",
      "Fixed the NameError by removing the line that assigns s1 to s. Also, changed the logic to sort the strings and compare them ignoring case.\n",
      "\u001b[32mSuccess\u001b[0m\n",
      "\u001b[32mdef can_rearrange(s1, s2):\n",
      "    # If the strings are identical, then s1 can be rearranged to be s2\n",
      "    if sorted(s1.lower()) == sorted(s2.lower()):\n",
      "        return True\n",
      "    else:\n",
      "        return False\u001b[0m\n"
     ]
    }
   ],
   "source": [
    "code = \"\"\"def can_rearrange(s1, s2):\n",
    "    # If the strings are identical, then s1 can be rearranged to be s2\n",
    "    s1=s\n",
    "    if s1 == s2:\n",
    "        return True\n",
    "    else:\n",
    "        return False\"\"\"\n",
    "error = \"\"\n",
    "\n",
    "#the test cases have cases where the function should account for letters case insensitivity like \"Race\" and \"care\"\n",
    "test_cases=[\"assert can_rearrange('Race', 'care')==True\",\n",
    "           \"assert can_rearrange('hello', 'world')==False\",\n",
    "           \"assert can_rearrange('lIsten', 'silent')==True\"]\n",
    "\n",
    "fixed_code = fix_code(code, 5, test_cases)\n",
    "print(f\"\\033[32m{fixed_code}\\033[0m\")"
   ]
  }
 ],
 "metadata": {
  "kernelspec": {
   "display_name": "Python 3",
   "language": "python",
   "name": "python3"
  },
  "language_info": {
   "codemirror_mode": {
    "name": "ipython",
    "version": 3
   },
   "file_extension": ".py",
   "mimetype": "text/x-python",
   "name": "python",
   "nbconvert_exporter": "python",
   "pygments_lexer": "ipython3",
   "version": "3.8.5"
  }
 },
 "nbformat": 4,
 "nbformat_minor": 4
}
